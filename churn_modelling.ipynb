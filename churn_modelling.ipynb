{
  "nbformat": 4,
  "nbformat_minor": 0,
  "metadata": {
    "colab": {
      "provenance": []
    },
    "kernelspec": {
      "name": "python3",
      "display_name": "Python 3"
    },
    "language_info": {
      "name": "python"
    }
  },
  "cells": [
    {
      "cell_type": "code",
      "execution_count": null,
      "metadata": {
        "colab": {
          "base_uri": "https://localhost:8080/"
        },
        "id": "Wx2AgNDoQHvQ",
        "outputId": "2240dede-a4a1-492c-ce1f-77d6534f6159"
      },
      "outputs": [
        {
          "output_type": "stream",
          "name": "stdout",
          "text": [
            "hello world!\n"
          ]
        }
      ],
      "source": [
        "print('hello world!')"
      ]
    },
    {
      "cell_type": "markdown",
      "source": [],
      "metadata": {
        "id": "aCfYLPXPQem7"
      }
    },
    {
      "cell_type": "code",
      "source": [
        "import numpy as np\n",
        "import matplotlib.pyplot as plt\n",
        "import pandas as pd"
      ],
      "metadata": {
        "id": "ChucNwkiRPuo"
      },
      "execution_count": null,
      "outputs": []
    },
    {
      "cell_type": "code",
      "source": [
        "dataset = pd.read_csv('Churn_Modelling.csv')\n",
        "X = dataset.iloc[:, 3:-1].values\n",
        "y = dataset.iloc[:, -1].values"
      ],
      "metadata": {
        "id": "Rzmr4ndmRZ4j"
      },
      "execution_count": null,
      "outputs": []
    },
    {
      "cell_type": "code",
      "source": [
        "X"
      ],
      "metadata": {
        "colab": {
          "base_uri": "https://localhost:8080/"
        },
        "id": "dww_XcxmRj83",
        "outputId": "d0588620-ff91-4b32-84c8-c202f840c26c"
      },
      "execution_count": null,
      "outputs": [
        {
          "output_type": "execute_result",
          "data": {
            "text/plain": [
              "array([[619, 'France', 'Female', ..., 1, 1, 101348.88],\n",
              "       [608, 'Spain', 'Female', ..., 0, 1, 112542.58],\n",
              "       [502, 'France', 'Female', ..., 1, 0, 113931.57],\n",
              "       ...,\n",
              "       [709, 'France', 'Female', ..., 0, 1, 42085.58],\n",
              "       [772, 'Germany', 'Male', ..., 1, 0, 92888.52],\n",
              "       [792, 'France', 'Female', ..., 1, 0, 38190.78]], dtype=object)"
            ]
          },
          "metadata": {},
          "execution_count": 10
        }
      ]
    },
    {
      "cell_type": "code",
      "source": [
        "from sklearn.preprocessing import LabelEncoder\n",
        "le = LabelEncoder()\n",
        "X[:,2] = le.fit_transform(X[:,2])\n",
        "X"
      ],
      "metadata": {
        "colab": {
          "base_uri": "https://localhost:8080/"
        },
        "id": "417xoiNyRlmc",
        "outputId": "2f04dfa6-9497-43ee-cbfe-510b72ab8c3b"
      },
      "execution_count": null,
      "outputs": [
        {
          "output_type": "execute_result",
          "data": {
            "text/plain": [
              "array([[619, 'France', 0, ..., 1, 1, 101348.88],\n",
              "       [608, 'Spain', 0, ..., 0, 1, 112542.58],\n",
              "       [502, 'France', 0, ..., 1, 0, 113931.57],\n",
              "       ...,\n",
              "       [709, 'France', 0, ..., 0, 1, 42085.58],\n",
              "       [772, 'Germany', 1, ..., 1, 0, 92888.52],\n",
              "       [792, 'France', 0, ..., 1, 0, 38190.78]], dtype=object)"
            ]
          },
          "metadata": {},
          "execution_count": 11
        }
      ]
    },
    {
      "cell_type": "code",
      "source": [
        "from sklearn.compose import ColumnTransformer\n",
        "from sklearn.preprocessing import OneHotEncoder\n",
        "ct = ColumnTransformer(transformers=[('encoder', OneHotEncoder(), [1])], remainder = 'passthrough')\n",
        "X = np.array(ct.fit_transform(X))\n",
        "X"
      ],
      "metadata": {
        "colab": {
          "base_uri": "https://localhost:8080/"
        },
        "id": "lGu5tdyXTBaD",
        "outputId": "915f10ef-6cf5-47f1-c234-cb6d69d8c464"
      },
      "execution_count": null,
      "outputs": [
        {
          "output_type": "execute_result",
          "data": {
            "text/plain": [
              "array([[1.0, 0.0, 0.0, ..., 1, 1, 101348.88],\n",
              "       [0.0, 0.0, 1.0, ..., 0, 1, 112542.58],\n",
              "       [1.0, 0.0, 0.0, ..., 1, 0, 113931.57],\n",
              "       ...,\n",
              "       [1.0, 0.0, 0.0, ..., 0, 1, 42085.58],\n",
              "       [0.0, 1.0, 0.0, ..., 1, 0, 92888.52],\n",
              "       [1.0, 0.0, 0.0, ..., 1, 0, 38190.78]], dtype=object)"
            ]
          },
          "metadata": {},
          "execution_count": 12
        }
      ]
    },
    {
      "cell_type": "code",
      "source": [
        "from sklearn.preprocessing import StandardScaler\n",
        "sc = StandardScaler()\n",
        "X = sc.fit_transform(X)\n",
        "X"
      ],
      "metadata": {
        "colab": {
          "base_uri": "https://localhost:8080/"
        },
        "id": "IWu-2XK5TggA",
        "outputId": "d9ae3552-d961-4c58-c831-ff4b95209c04"
      },
      "execution_count": null,
      "outputs": [
        {
          "output_type": "execute_result",
          "data": {
            "text/plain": [
              "array([[ 0.99720391, -0.57873591, -0.57380915, ...,  0.64609167,\n",
              "         0.97024255,  0.02188649],\n",
              "       [-1.00280393, -0.57873591,  1.74273971, ..., -1.54776799,\n",
              "         0.97024255,  0.21653375],\n",
              "       [ 0.99720391, -0.57873591, -0.57380915, ...,  0.64609167,\n",
              "        -1.03067011,  0.2406869 ],\n",
              "       ...,\n",
              "       [ 0.99720391, -0.57873591, -0.57380915, ..., -1.54776799,\n",
              "         0.97024255, -1.00864308],\n",
              "       [-1.00280393,  1.72790383, -0.57380915, ...,  0.64609167,\n",
              "        -1.03067011, -0.12523071],\n",
              "       [ 0.99720391, -0.57873591, -0.57380915, ...,  0.64609167,\n",
              "        -1.03067011, -1.07636976]])"
            ]
          },
          "metadata": {},
          "execution_count": 13
        }
      ]
    },
    {
      "cell_type": "code",
      "source": [
        "from sklearn.model_selection import train_test_split\n",
        "X_train, X_test, y_train, y_test = train_test_split(X, y, test_size = 0.2, random_state = 0)"
      ],
      "metadata": {
        "id": "ZLVl66FFUYRx"
      },
      "execution_count": null,
      "outputs": []
    },
    {
      "cell_type": "code",
      "source": [
        "import tensorflow as tf\n",
        "ann = tf.keras.models.Sequential()"
      ],
      "metadata": {
        "id": "I2vnxSkJUi33"
      },
      "execution_count": null,
      "outputs": []
    },
    {
      "cell_type": "code",
      "source": [
        "ann.add(tf.keras.layers.Dense(units=11, activation = 'relu'))\n",
        "ann.add(tf.keras.layers.Dense(units=11, activation = 'relu'))\n",
        "ann.add(tf.keras.layers.Dense(units=11, activation = 'relu'))\n",
        "ann.add(tf.keras.layers.Dense(units=1, activation = 'sigmoid'))"
      ],
      "metadata": {
        "id": "erFKbZOMP-Sh"
      },
      "execution_count": null,
      "outputs": []
    },
    {
      "cell_type": "code",
      "source": [
        "ann.compile(optimizer = 'adam', loss = 'binary_crossentropy', metrics = ['accuracy'])\n"
      ],
      "metadata": {
        "id": "kkHNH0LuQg1f"
      },
      "execution_count": null,
      "outputs": []
    },
    {
      "cell_type": "code",
      "source": [
        "ann.fit(X_train, y_train, batch_size=32, epochs=10)\n"
      ],
      "metadata": {
        "colab": {
          "base_uri": "https://localhost:8080/"
        },
        "id": "tM8Vpl-BQ0iJ",
        "outputId": "8dc8a3fa-b51b-47df-8229-03a44f18ee44"
      },
      "execution_count": null,
      "outputs": [
        {
          "output_type": "stream",
          "name": "stdout",
          "text": [
            "Epoch 1/10\n",
            "250/250 [==============================] - 2s 2ms/step - loss: 0.5771 - accuracy: 0.6945\n",
            "Epoch 2/10\n",
            "250/250 [==============================] - 1s 2ms/step - loss: 0.4560 - accuracy: 0.7968\n",
            "Epoch 3/10\n",
            "250/250 [==============================] - 0s 2ms/step - loss: 0.4359 - accuracy: 0.7965\n",
            "Epoch 4/10\n",
            "250/250 [==============================] - 1s 2ms/step - loss: 0.4218 - accuracy: 0.8099\n",
            "Epoch 5/10\n",
            "250/250 [==============================] - 0s 2ms/step - loss: 0.4043 - accuracy: 0.8299\n",
            "Epoch 6/10\n",
            "250/250 [==============================] - 1s 2ms/step - loss: 0.3850 - accuracy: 0.8382\n",
            "Epoch 7/10\n",
            "250/250 [==============================] - 0s 2ms/step - loss: 0.3685 - accuracy: 0.8446\n",
            "Epoch 8/10\n",
            "250/250 [==============================] - 1s 2ms/step - loss: 0.3580 - accuracy: 0.8490\n",
            "Epoch 9/10\n",
            "250/250 [==============================] - 0s 2ms/step - loss: 0.3488 - accuracy: 0.8537\n",
            "Epoch 10/10\n",
            "250/250 [==============================] - 1s 2ms/step - loss: 0.3437 - accuracy: 0.8564\n"
          ]
        },
        {
          "output_type": "execute_result",
          "data": {
            "text/plain": [
              "<keras.src.callbacks.History at 0x78c08326d4e0>"
            ]
          },
          "metadata": {},
          "execution_count": 18
        }
      ]
    },
    {
      "cell_type": "code",
      "source": [
        "pd.DataFrame(X_test)"
      ],
      "metadata": {
        "colab": {
          "base_uri": "https://localhost:8080/",
          "height": 443
        },
        "id": "QxsyuB-tRWxx",
        "outputId": "32969f6f-57bf-4065-96fa-c6c770f4f714"
      },
      "execution_count": null,
      "outputs": [
        {
          "output_type": "execute_result",
          "data": {
            "text/plain": [
              "            0         1         2         3         4         5         6   \\\n",
              "0    -1.002804  1.727904 -0.573809 -0.553850 -1.095988 -0.373958  1.032908   \n",
              "1     0.997204 -0.578736 -0.573809 -1.319512 -1.095988  0.102810 -1.041760   \n",
              "2    -1.002804 -0.578736  1.742740  0.573948 -1.095988  0.293517  1.032908   \n",
              "3     0.997204 -0.578736 -0.573809  1.422384  0.912419 -0.660018 -0.350204   \n",
              "4    -1.002804  1.727904 -0.573809  0.573948  0.912419 -0.087897 -0.004426   \n",
              "...        ...       ...       ...       ...       ...       ...       ...   \n",
              "1995  0.997204 -0.578736 -0.573809 -0.264141 -1.095988 -1.422847 -1.387538   \n",
              "1996  0.997204 -0.578736 -0.573809 -0.667665 -1.095988 -0.373958  0.687130   \n",
              "1997 -1.002804 -0.578736  1.742740 -0.750439  0.912419 -0.278604 -1.387538   \n",
              "1998 -1.002804  1.727904 -0.573809 -0.005471  0.912419 -0.469311 -0.350204   \n",
              "1999 -1.002804  1.727904 -0.573809 -0.802173  0.912419 -0.850726  1.032908   \n",
              "\n",
              "            7         8         9         10        11  \n",
              "0     0.875323 -0.911583  0.646092  0.970243  1.613046  \n",
              "1     0.424422 -0.911583  0.646092 -1.030670  0.497532  \n",
              "2     0.302927 -0.911583  0.646092  0.970243 -0.423561  \n",
              "3     0.570464 -0.911583 -1.547768 -1.030670 -0.186439  \n",
              "4     1.387129  0.807737  0.646092  0.970243  0.618560  \n",
              "...        ...       ...       ...       ...       ...  \n",
              "1995 -1.225848  0.807737  0.646092  0.970243  1.406410  \n",
              "1996 -1.225848  0.807737  0.646092 -1.030670 -0.510012  \n",
              "1997  1.294703  0.807737  0.646092 -1.030670  0.720651  \n",
              "1998  1.056302 -0.911583  0.646092  0.970243 -1.544383  \n",
              "1999  0.816110 -0.911583  0.646092 -1.030670  1.614749  \n",
              "\n",
              "[2000 rows x 12 columns]"
            ],
            "text/html": [
              "\n",
              "  <div id=\"df-cb8c0073-0446-41ec-b1a9-f856fa72973b\" class=\"colab-df-container\">\n",
              "    <div>\n",
              "<style scoped>\n",
              "    .dataframe tbody tr th:only-of-type {\n",
              "        vertical-align: middle;\n",
              "    }\n",
              "\n",
              "    .dataframe tbody tr th {\n",
              "        vertical-align: top;\n",
              "    }\n",
              "\n",
              "    .dataframe thead th {\n",
              "        text-align: right;\n",
              "    }\n",
              "</style>\n",
              "<table border=\"1\" class=\"dataframe\">\n",
              "  <thead>\n",
              "    <tr style=\"text-align: right;\">\n",
              "      <th></th>\n",
              "      <th>0</th>\n",
              "      <th>1</th>\n",
              "      <th>2</th>\n",
              "      <th>3</th>\n",
              "      <th>4</th>\n",
              "      <th>5</th>\n",
              "      <th>6</th>\n",
              "      <th>7</th>\n",
              "      <th>8</th>\n",
              "      <th>9</th>\n",
              "      <th>10</th>\n",
              "      <th>11</th>\n",
              "    </tr>\n",
              "  </thead>\n",
              "  <tbody>\n",
              "    <tr>\n",
              "      <th>0</th>\n",
              "      <td>-1.002804</td>\n",
              "      <td>1.727904</td>\n",
              "      <td>-0.573809</td>\n",
              "      <td>-0.553850</td>\n",
              "      <td>-1.095988</td>\n",
              "      <td>-0.373958</td>\n",
              "      <td>1.032908</td>\n",
              "      <td>0.875323</td>\n",
              "      <td>-0.911583</td>\n",
              "      <td>0.646092</td>\n",
              "      <td>0.970243</td>\n",
              "      <td>1.613046</td>\n",
              "    </tr>\n",
              "    <tr>\n",
              "      <th>1</th>\n",
              "      <td>0.997204</td>\n",
              "      <td>-0.578736</td>\n",
              "      <td>-0.573809</td>\n",
              "      <td>-1.319512</td>\n",
              "      <td>-1.095988</td>\n",
              "      <td>0.102810</td>\n",
              "      <td>-1.041760</td>\n",
              "      <td>0.424422</td>\n",
              "      <td>-0.911583</td>\n",
              "      <td>0.646092</td>\n",
              "      <td>-1.030670</td>\n",
              "      <td>0.497532</td>\n",
              "    </tr>\n",
              "    <tr>\n",
              "      <th>2</th>\n",
              "      <td>-1.002804</td>\n",
              "      <td>-0.578736</td>\n",
              "      <td>1.742740</td>\n",
              "      <td>0.573948</td>\n",
              "      <td>-1.095988</td>\n",
              "      <td>0.293517</td>\n",
              "      <td>1.032908</td>\n",
              "      <td>0.302927</td>\n",
              "      <td>-0.911583</td>\n",
              "      <td>0.646092</td>\n",
              "      <td>0.970243</td>\n",
              "      <td>-0.423561</td>\n",
              "    </tr>\n",
              "    <tr>\n",
              "      <th>3</th>\n",
              "      <td>0.997204</td>\n",
              "      <td>-0.578736</td>\n",
              "      <td>-0.573809</td>\n",
              "      <td>1.422384</td>\n",
              "      <td>0.912419</td>\n",
              "      <td>-0.660018</td>\n",
              "      <td>-0.350204</td>\n",
              "      <td>0.570464</td>\n",
              "      <td>-0.911583</td>\n",
              "      <td>-1.547768</td>\n",
              "      <td>-1.030670</td>\n",
              "      <td>-0.186439</td>\n",
              "    </tr>\n",
              "    <tr>\n",
              "      <th>4</th>\n",
              "      <td>-1.002804</td>\n",
              "      <td>1.727904</td>\n",
              "      <td>-0.573809</td>\n",
              "      <td>0.573948</td>\n",
              "      <td>0.912419</td>\n",
              "      <td>-0.087897</td>\n",
              "      <td>-0.004426</td>\n",
              "      <td>1.387129</td>\n",
              "      <td>0.807737</td>\n",
              "      <td>0.646092</td>\n",
              "      <td>0.970243</td>\n",
              "      <td>0.618560</td>\n",
              "    </tr>\n",
              "    <tr>\n",
              "      <th>...</th>\n",
              "      <td>...</td>\n",
              "      <td>...</td>\n",
              "      <td>...</td>\n",
              "      <td>...</td>\n",
              "      <td>...</td>\n",
              "      <td>...</td>\n",
              "      <td>...</td>\n",
              "      <td>...</td>\n",
              "      <td>...</td>\n",
              "      <td>...</td>\n",
              "      <td>...</td>\n",
              "      <td>...</td>\n",
              "    </tr>\n",
              "    <tr>\n",
              "      <th>1995</th>\n",
              "      <td>0.997204</td>\n",
              "      <td>-0.578736</td>\n",
              "      <td>-0.573809</td>\n",
              "      <td>-0.264141</td>\n",
              "      <td>-1.095988</td>\n",
              "      <td>-1.422847</td>\n",
              "      <td>-1.387538</td>\n",
              "      <td>-1.225848</td>\n",
              "      <td>0.807737</td>\n",
              "      <td>0.646092</td>\n",
              "      <td>0.970243</td>\n",
              "      <td>1.406410</td>\n",
              "    </tr>\n",
              "    <tr>\n",
              "      <th>1996</th>\n",
              "      <td>0.997204</td>\n",
              "      <td>-0.578736</td>\n",
              "      <td>-0.573809</td>\n",
              "      <td>-0.667665</td>\n",
              "      <td>-1.095988</td>\n",
              "      <td>-0.373958</td>\n",
              "      <td>0.687130</td>\n",
              "      <td>-1.225848</td>\n",
              "      <td>0.807737</td>\n",
              "      <td>0.646092</td>\n",
              "      <td>-1.030670</td>\n",
              "      <td>-0.510012</td>\n",
              "    </tr>\n",
              "    <tr>\n",
              "      <th>1997</th>\n",
              "      <td>-1.002804</td>\n",
              "      <td>-0.578736</td>\n",
              "      <td>1.742740</td>\n",
              "      <td>-0.750439</td>\n",
              "      <td>0.912419</td>\n",
              "      <td>-0.278604</td>\n",
              "      <td>-1.387538</td>\n",
              "      <td>1.294703</td>\n",
              "      <td>0.807737</td>\n",
              "      <td>0.646092</td>\n",
              "      <td>-1.030670</td>\n",
              "      <td>0.720651</td>\n",
              "    </tr>\n",
              "    <tr>\n",
              "      <th>1998</th>\n",
              "      <td>-1.002804</td>\n",
              "      <td>1.727904</td>\n",
              "      <td>-0.573809</td>\n",
              "      <td>-0.005471</td>\n",
              "      <td>0.912419</td>\n",
              "      <td>-0.469311</td>\n",
              "      <td>-0.350204</td>\n",
              "      <td>1.056302</td>\n",
              "      <td>-0.911583</td>\n",
              "      <td>0.646092</td>\n",
              "      <td>0.970243</td>\n",
              "      <td>-1.544383</td>\n",
              "    </tr>\n",
              "    <tr>\n",
              "      <th>1999</th>\n",
              "      <td>-1.002804</td>\n",
              "      <td>1.727904</td>\n",
              "      <td>-0.573809</td>\n",
              "      <td>-0.802173</td>\n",
              "      <td>0.912419</td>\n",
              "      <td>-0.850726</td>\n",
              "      <td>1.032908</td>\n",
              "      <td>0.816110</td>\n",
              "      <td>-0.911583</td>\n",
              "      <td>0.646092</td>\n",
              "      <td>-1.030670</td>\n",
              "      <td>1.614749</td>\n",
              "    </tr>\n",
              "  </tbody>\n",
              "</table>\n",
              "<p>2000 rows × 12 columns</p>\n",
              "</div>\n",
              "    <div class=\"colab-df-buttons\">\n",
              "\n",
              "  <div class=\"colab-df-container\">\n",
              "    <button class=\"colab-df-convert\" onclick=\"convertToInteractive('df-cb8c0073-0446-41ec-b1a9-f856fa72973b')\"\n",
              "            title=\"Convert this dataframe to an interactive table.\"\n",
              "            style=\"display:none;\">\n",
              "\n",
              "  <svg xmlns=\"http://www.w3.org/2000/svg\" height=\"24px\" viewBox=\"0 -960 960 960\">\n",
              "    <path d=\"M120-120v-720h720v720H120Zm60-500h600v-160H180v160Zm220 220h160v-160H400v160Zm0 220h160v-160H400v160ZM180-400h160v-160H180v160Zm440 0h160v-160H620v160ZM180-180h160v-160H180v160Zm440 0h160v-160H620v160Z\"/>\n",
              "  </svg>\n",
              "    </button>\n",
              "\n",
              "  <style>\n",
              "    .colab-df-container {\n",
              "      display:flex;\n",
              "      gap: 12px;\n",
              "    }\n",
              "\n",
              "    .colab-df-convert {\n",
              "      background-color: #E8F0FE;\n",
              "      border: none;\n",
              "      border-radius: 50%;\n",
              "      cursor: pointer;\n",
              "      display: none;\n",
              "      fill: #1967D2;\n",
              "      height: 32px;\n",
              "      padding: 0 0 0 0;\n",
              "      width: 32px;\n",
              "    }\n",
              "\n",
              "    .colab-df-convert:hover {\n",
              "      background-color: #E2EBFA;\n",
              "      box-shadow: 0px 1px 2px rgba(60, 64, 67, 0.3), 0px 1px 3px 1px rgba(60, 64, 67, 0.15);\n",
              "      fill: #174EA6;\n",
              "    }\n",
              "\n",
              "    .colab-df-buttons div {\n",
              "      margin-bottom: 4px;\n",
              "    }\n",
              "\n",
              "    [theme=dark] .colab-df-convert {\n",
              "      background-color: #3B4455;\n",
              "      fill: #D2E3FC;\n",
              "    }\n",
              "\n",
              "    [theme=dark] .colab-df-convert:hover {\n",
              "      background-color: #434B5C;\n",
              "      box-shadow: 0px 1px 3px 1px rgba(0, 0, 0, 0.15);\n",
              "      filter: drop-shadow(0px 1px 2px rgba(0, 0, 0, 0.3));\n",
              "      fill: #FFFFFF;\n",
              "    }\n",
              "  </style>\n",
              "\n",
              "    <script>\n",
              "      const buttonEl =\n",
              "        document.querySelector('#df-cb8c0073-0446-41ec-b1a9-f856fa72973b button.colab-df-convert');\n",
              "      buttonEl.style.display =\n",
              "        google.colab.kernel.accessAllowed ? 'block' : 'none';\n",
              "\n",
              "      async function convertToInteractive(key) {\n",
              "        const element = document.querySelector('#df-cb8c0073-0446-41ec-b1a9-f856fa72973b');\n",
              "        const dataTable =\n",
              "          await google.colab.kernel.invokeFunction('convertToInteractive',\n",
              "                                                    [key], {});\n",
              "        if (!dataTable) return;\n",
              "\n",
              "        const docLinkHtml = 'Like what you see? Visit the ' +\n",
              "          '<a target=\"_blank\" href=https://colab.research.google.com/notebooks/data_table.ipynb>data table notebook</a>'\n",
              "          + ' to learn more about interactive tables.';\n",
              "        element.innerHTML = '';\n",
              "        dataTable['output_type'] = 'display_data';\n",
              "        await google.colab.output.renderOutput(dataTable, element);\n",
              "        const docLink = document.createElement('div');\n",
              "        docLink.innerHTML = docLinkHtml;\n",
              "        element.appendChild(docLink);\n",
              "      }\n",
              "    </script>\n",
              "  </div>\n",
              "\n",
              "\n",
              "<div id=\"df-3ae43f1e-8d91-4063-8c1e-1f0b4b33ecea\">\n",
              "  <button class=\"colab-df-quickchart\" onclick=\"quickchart('df-3ae43f1e-8d91-4063-8c1e-1f0b4b33ecea')\"\n",
              "            title=\"Suggest charts\"\n",
              "            style=\"display:none;\">\n",
              "\n",
              "<svg xmlns=\"http://www.w3.org/2000/svg\" height=\"24px\"viewBox=\"0 0 24 24\"\n",
              "     width=\"24px\">\n",
              "    <g>\n",
              "        <path d=\"M19 3H5c-1.1 0-2 .9-2 2v14c0 1.1.9 2 2 2h14c1.1 0 2-.9 2-2V5c0-1.1-.9-2-2-2zM9 17H7v-7h2v7zm4 0h-2V7h2v10zm4 0h-2v-4h2v4z\"/>\n",
              "    </g>\n",
              "</svg>\n",
              "  </button>\n",
              "\n",
              "<style>\n",
              "  .colab-df-quickchart {\n",
              "      --bg-color: #E8F0FE;\n",
              "      --fill-color: #1967D2;\n",
              "      --hover-bg-color: #E2EBFA;\n",
              "      --hover-fill-color: #174EA6;\n",
              "      --disabled-fill-color: #AAA;\n",
              "      --disabled-bg-color: #DDD;\n",
              "  }\n",
              "\n",
              "  [theme=dark] .colab-df-quickchart {\n",
              "      --bg-color: #3B4455;\n",
              "      --fill-color: #D2E3FC;\n",
              "      --hover-bg-color: #434B5C;\n",
              "      --hover-fill-color: #FFFFFF;\n",
              "      --disabled-bg-color: #3B4455;\n",
              "      --disabled-fill-color: #666;\n",
              "  }\n",
              "\n",
              "  .colab-df-quickchart {\n",
              "    background-color: var(--bg-color);\n",
              "    border: none;\n",
              "    border-radius: 50%;\n",
              "    cursor: pointer;\n",
              "    display: none;\n",
              "    fill: var(--fill-color);\n",
              "    height: 32px;\n",
              "    padding: 0;\n",
              "    width: 32px;\n",
              "  }\n",
              "\n",
              "  .colab-df-quickchart:hover {\n",
              "    background-color: var(--hover-bg-color);\n",
              "    box-shadow: 0 1px 2px rgba(60, 64, 67, 0.3), 0 1px 3px 1px rgba(60, 64, 67, 0.15);\n",
              "    fill: var(--button-hover-fill-color);\n",
              "  }\n",
              "\n",
              "  .colab-df-quickchart-complete:disabled,\n",
              "  .colab-df-quickchart-complete:disabled:hover {\n",
              "    background-color: var(--disabled-bg-color);\n",
              "    fill: var(--disabled-fill-color);\n",
              "    box-shadow: none;\n",
              "  }\n",
              "\n",
              "  .colab-df-spinner {\n",
              "    border: 2px solid var(--fill-color);\n",
              "    border-color: transparent;\n",
              "    border-bottom-color: var(--fill-color);\n",
              "    animation:\n",
              "      spin 1s steps(1) infinite;\n",
              "  }\n",
              "\n",
              "  @keyframes spin {\n",
              "    0% {\n",
              "      border-color: transparent;\n",
              "      border-bottom-color: var(--fill-color);\n",
              "      border-left-color: var(--fill-color);\n",
              "    }\n",
              "    20% {\n",
              "      border-color: transparent;\n",
              "      border-left-color: var(--fill-color);\n",
              "      border-top-color: var(--fill-color);\n",
              "    }\n",
              "    30% {\n",
              "      border-color: transparent;\n",
              "      border-left-color: var(--fill-color);\n",
              "      border-top-color: var(--fill-color);\n",
              "      border-right-color: var(--fill-color);\n",
              "    }\n",
              "    40% {\n",
              "      border-color: transparent;\n",
              "      border-right-color: var(--fill-color);\n",
              "      border-top-color: var(--fill-color);\n",
              "    }\n",
              "    60% {\n",
              "      border-color: transparent;\n",
              "      border-right-color: var(--fill-color);\n",
              "    }\n",
              "    80% {\n",
              "      border-color: transparent;\n",
              "      border-right-color: var(--fill-color);\n",
              "      border-bottom-color: var(--fill-color);\n",
              "    }\n",
              "    90% {\n",
              "      border-color: transparent;\n",
              "      border-bottom-color: var(--fill-color);\n",
              "    }\n",
              "  }\n",
              "</style>\n",
              "\n",
              "  <script>\n",
              "    async function quickchart(key) {\n",
              "      const quickchartButtonEl =\n",
              "        document.querySelector('#' + key + ' button');\n",
              "      quickchartButtonEl.disabled = true;  // To prevent multiple clicks.\n",
              "      quickchartButtonEl.classList.add('colab-df-spinner');\n",
              "      try {\n",
              "        const charts = await google.colab.kernel.invokeFunction(\n",
              "            'suggestCharts', [key], {});\n",
              "      } catch (error) {\n",
              "        console.error('Error during call to suggestCharts:', error);\n",
              "      }\n",
              "      quickchartButtonEl.classList.remove('colab-df-spinner');\n",
              "      quickchartButtonEl.classList.add('colab-df-quickchart-complete');\n",
              "    }\n",
              "    (() => {\n",
              "      let quickchartButtonEl =\n",
              "        document.querySelector('#df-3ae43f1e-8d91-4063-8c1e-1f0b4b33ecea button');\n",
              "      quickchartButtonEl.style.display =\n",
              "        google.colab.kernel.accessAllowed ? 'block' : 'none';\n",
              "    })();\n",
              "  </script>\n",
              "</div>\n",
              "\n",
              "    </div>\n",
              "  </div>\n"
            ],
            "application/vnd.google.colaboratory.intrinsic+json": {
              "type": "dataframe",
              "summary": "{\n  \"name\": \"pd\",\n  \"rows\": 2000,\n  \"fields\": [\n    {\n      \"column\": 0,\n      \"properties\": {\n        \"dtype\": \"number\",\n        \"std\": 0.9992852998209555,\n        \"min\": -1.0028039309990795,\n        \"max\": 0.9972039090469509,\n        \"num_unique_values\": 2,\n        \"samples\": [\n          0.9972039090469509,\n          -1.0028039309990795\n        ],\n        \"semantic_type\": \"\",\n        \"description\": \"\"\n      }\n    },\n    {\n      \"column\": 1,\n      \"properties\": {\n        \"dtype\": \"number\",\n        \"std\": 1.0290393050645992,\n        \"min\": -0.5787359118285802,\n        \"max\": 1.7279038324064944,\n        \"num_unique_values\": 2,\n        \"samples\": [\n          -0.5787359118285802,\n          1.7279038324064944\n        ],\n        \"semantic_type\": \"\",\n        \"description\": \"\"\n      }\n    },\n    {\n      \"column\": 2,\n      \"properties\": {\n        \"dtype\": \"number\",\n        \"std\": 1.0006560541570089,\n        \"min\": -0.5738091541336481,\n        \"max\": 1.7427397119690895,\n        \"num_unique_values\": 2,\n        \"samples\": [\n          1.7427397119690895,\n          -0.5738091541336481\n        ],\n        \"semantic_type\": \"\",\n        \"description\": \"\"\n      }\n    },\n    {\n      \"column\": 3,\n      \"properties\": {\n        \"dtype\": \"number\",\n        \"std\": 0.9854211901690899,\n        \"min\": -2.954302452628878,\n        \"max\": 2.0638837672025563,\n        \"num_unique_values\": 400,\n        \"samples\": [\n          -0.1813665620828484,\n          0.9360852147043576\n        ],\n        \"semantic_type\": \"\",\n        \"description\": \"\"\n      }\n    },\n    {\n      \"column\": 4,\n      \"properties\": {\n        \"dtype\": \"number\",\n        \"std\": 0.9986879267963944,\n        \"min\": -1.0959875190286514,\n        \"max\": 0.912419149523028,\n        \"num_unique_values\": 2,\n        \"samples\": [\n          0.912419149523028,\n          -1.0959875190286514\n        ],\n        \"semantic_type\": \"\",\n        \"description\": \"\"\n      }\n    },\n    {\n      \"column\": 5,\n      \"properties\": {\n        \"dtype\": \"number\",\n        \"std\": 1.0143703736189231,\n        \"min\": -1.9949687539344971,\n        \"max\": 5.061196957961841,\n        \"num_unique_values\": 64,\n        \"samples\": [\n          0.8656389671045588,\n          3.630893097442313\n        ],\n        \"semantic_type\": \"\",\n        \"description\": \"\"\n      }\n    },\n    {\n      \"column\": 6,\n      \"properties\": {\n        \"dtype\": \"number\",\n        \"std\": 1.0018801738292098,\n        \"min\": -1.73331549389956,\n        \"max\": 1.7244635794717293,\n        \"num_unique_values\": 11,\n        \"samples\": [\n          -1.73331549389956,\n          1.0329077647974714\n        ],\n        \"semantic_type\": \"\",\n        \"description\": \"\"\n      }\n    },\n    {\n      \"column\": 7,\n      \"properties\": {\n        \"dtype\": \"number\",\n        \"std\": 0.98798145364325,\n        \"min\": -1.2258476714090163,\n        \"max\": 2.7953233217054665,\n        \"num_unique_values\": 1312,\n        \"samples\": [\n          -0.2349636545765268,\n          -0.1648216538760598\n        ],\n        \"semantic_type\": \"\",\n        \"description\": \"\"\n      }\n    },\n    {\n      \"column\": 8,\n      \"properties\": {\n        \"dtype\": \"number\",\n        \"std\": 1.0268762039265367,\n        \"min\": -0.911583494040172,\n        \"max\": 4.246376675934397,\n        \"num_unique_values\": 4,\n        \"samples\": [\n          0.8077365626180174,\n          4.246376675934397\n        ],\n        \"semantic_type\": \"\",\n        \"description\": \"\"\n      }\n    },\n    {\n      \"column\": 9,\n      \"properties\": {\n        \"dtype\": \"number\",\n        \"std\": 1.0089214380977711,\n        \"min\": -1.5477679860172207,\n        \"max\": 0.6460916681531842,\n        \"num_unique_values\": 2,\n        \"samples\": [\n          -1.5477679860172207,\n          0.6460916681531842\n        ],\n        \"semantic_type\": \"\",\n        \"description\": \"\"\n      }\n    },\n    {\n      \"column\": 10,\n      \"properties\": {\n        \"dtype\": \"number\",\n        \"std\": 1.000418295086744,\n        \"min\": -1.030670113400118,\n        \"max\": 0.970242550937133,\n        \"num_unique_values\": 2,\n        \"samples\": [\n          -1.030670113400118,\n          0.970242550937133\n        ],\n        \"semantic_type\": \"\",\n        \"description\": \"\"\n      }\n    },\n    {\n      \"column\": 11,\n      \"properties\": {\n        \"dtype\": \"number\",\n        \"std\": 0.9983341805188342,\n        \"min\": -1.7389030308178866,\n        \"max\": 1.7339509953178873,\n        \"num_unique_values\": 2000,\n        \"samples\": [\n          0.10318250704388922,\n          -0.3310211899023618\n        ],\n        \"semantic_type\": \"\",\n        \"description\": \"\"\n      }\n    }\n  ]\n}"
            }
          },
          "metadata": {},
          "execution_count": 23
        }
      ]
    },
    {
      "cell_type": "code",
      "source": [
        "ann.predict(sc.transform([[1,0,0,600,1,40,3,60000,2,1,1,50000]]))"
      ],
      "metadata": {
        "colab": {
          "base_uri": "https://localhost:8080/"
        },
        "id": "406nqDl9RAlH",
        "outputId": "2d78dad2-7cbb-4e02-f636-e13e7f03838e"
      },
      "execution_count": null,
      "outputs": [
        {
          "output_type": "stream",
          "name": "stdout",
          "text": [
            "1/1 [==============================] - 0s 132ms/step\n"
          ]
        },
        {
          "output_type": "execute_result",
          "data": {
            "text/plain": [
              "array([[0.08578576]], dtype=float32)"
            ]
          },
          "metadata": {},
          "execution_count": 31
        }
      ]
    },
    {
      "cell_type": "code",
      "source": [
        "y_pred = ann.predict(X_test)\n",
        "y_pred = (y_pred > 0.5)"
      ],
      "metadata": {
        "colab": {
          "base_uri": "https://localhost:8080/"
        },
        "id": "2XYrbDm-TSkh",
        "outputId": "8f7f98e7-b032-493d-8d65-e11a6586c10a"
      },
      "execution_count": null,
      "outputs": [
        {
          "output_type": "stream",
          "name": "stdout",
          "text": [
            "63/63 [==============================] - 0s 4ms/step\n"
          ]
        }
      ]
    },
    {
      "cell_type": "code",
      "source": [
        "from sklearn.metrics import confusion_matrix, accuracy_score\n",
        "cm = confusion_matrix(y_test, y_pred)\n",
        "cm"
      ],
      "metadata": {
        "colab": {
          "base_uri": "https://localhost:8080/"
        },
        "id": "dfpSsJnHU0q0",
        "outputId": "95934d39-5949-4b33-90ba-d7f0776575ae"
      },
      "execution_count": null,
      "outputs": [
        {
          "output_type": "execute_result",
          "data": {
            "text/plain": [
              "array([[1584,   11],\n",
              "       [ 331,   74]])"
            ]
          },
          "metadata": {},
          "execution_count": 37
        }
      ]
    },
    {
      "cell_type": "code",
      "source": [
        "accuracy_score(y_test, y_pred)"
      ],
      "metadata": {
        "colab": {
          "base_uri": "https://localhost:8080/"
        },
        "id": "cPTmErueVEh3",
        "outputId": "abf28b26-1f47-4a06-c8c8-b5091821ef02"
      },
      "execution_count": null,
      "outputs": [
        {
          "output_type": "execute_result",
          "data": {
            "text/plain": [
              "0.829"
            ]
          },
          "metadata": {},
          "execution_count": 38
        }
      ]
    },
    {
      "cell_type": "code",
      "source": [],
      "metadata": {
        "id": "3BTqfYdsVIBd"
      },
      "execution_count": null,
      "outputs": []
    }
  ]
}